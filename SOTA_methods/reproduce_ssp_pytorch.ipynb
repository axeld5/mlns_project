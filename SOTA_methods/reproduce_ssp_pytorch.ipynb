{
 "cells": [
  {
   "cell_type": "code",
   "execution_count": 62,
   "metadata": {},
   "outputs": [],
   "source": [
    "import logging\n",
    "import argparse\n",
    "import os\n",
    "import numpy as np\n",
    "import torch\n",
    "\n",
    "from ppnp.pytorch import PPNP\n",
    "from ppnp.pytorch.training import train_model\n",
    "from ppnp.pytorch.earlystopping import stopping_args\n",
    "from ppnp.pytorch.propagation import PPRExact, PPRPowerIteration\n",
    "from ppnp.data.io import load_dataset"
   ]
  },
  {
   "cell_type": "code",
   "execution_count": 63,
   "metadata": {},
   "outputs": [],
   "source": [
    "logging.basicConfig(\n",
    "        format='%(asctime)s: %(message)s',\n",
    "        datefmt='%Y-%m-%d %H:%M:%S',\n",
    "        level=logging.INFO + 2)"
   ]
  },
  {
   "cell_type": "markdown",
   "metadata": {},
   "source": [
    "# PyTorch variant\n",
    "This is not the official code that should be used to reproduce the results from the paper (see `reproduce_results.ipynb`, available at https://github.com/russellizadi/ssp for this), but an adaptation of that code to PyTorch for better accessibility.\n",
    "\n",
    "To run this notebook, one first needs to download the paper's code at https://github.com/russellizadi/ssp."
   ]
  },
  {
   "cell_type": "markdown",
   "metadata": {},
   "source": [
    "# Load dataset"
   ]
  },
  {
   "cell_type": "code",
   "execution_count": 64,
   "metadata": {},
   "outputs": [
    {
     "data": {
      "text/plain": [
       "<Undirected, unweighted and connected SparseGraph with 88648 edges (no self-loops). Data: adj_matrix (19717x19717), attr_matrix (19717x500), labels (19717)>"
      ]
     },
     "execution_count": 64,
     "metadata": {},
     "output_type": "execute_result"
    }
   ],
   "source": [
    "graph_name = 'pubmed'\n",
    "graph = load_dataset(graph_name)\n",
    "graph.standardize(select_lcc=True)"
   ]
  },
  {
   "cell_type": "markdown",
   "metadata": {},
   "source": [
    "# Set up data splits"
   ]
  },
  {
   "cell_type": "markdown",
   "metadata": {},
   "source": [
    "First of all we need to decide whether to use the test or validation set. Be mindful that we can only look at the test set exactly _once_ and then can't change any hyperparameters oder model details, no matter what. Everything else would cause overfitting."
   ]
  },
  {
   "cell_type": "code",
   "execution_count": 65,
   "metadata": {},
   "outputs": [],
   "source": [
    "test = True"
   ]
  },
  {
   "cell_type": "markdown",
   "metadata": {},
   "source": [
    "These are the seeds for the dataset splits used in the paper for test/validation."
   ]
  },
  {
   "cell_type": "code",
   "execution_count": 66,
   "metadata": {},
   "outputs": [],
   "source": [
    "test_seeds = [\n",
    "        2144199730,  794209841, 2985733717, 2282690970, 1901557222,\n",
    "        2009332812, 2266730407,  635625077, 3538425002,  960893189,\n",
    "        497096336, 3940842554, 3594628340,  948012117, 3305901371,\n",
    "        3644534211, 2297033685, 4092258879, 2590091101, 1694925034]\n",
    "val_seeds = [\n",
    "        2413340114, 3258769933, 1789234713, 2222151463, 2813247115,\n",
    "        1920426428, 4272044734, 2092442742, 841404887, 2188879532,\n",
    "        646784207, 1633698412, 2256863076,  374355442,  289680769,\n",
    "        4281139389, 4263036964,  900418539,  119332950, 1628837138]\n",
    "\n",
    "if test:\n",
    "    seeds = test_seeds\n",
    "else:\n",
    "    seeds = val_seeds"
   ]
  },
  {
   "cell_type": "markdown",
   "metadata": {},
   "source": [
    "Now we can choose the remaining settings for the training/early stopping/validation(test) split. These are the ones chosen in the paper"
   ]
  },
  {
   "cell_type": "code",
   "execution_count": 67,
   "metadata": {},
   "outputs": [],
   "source": [
    "if graph_name == 'microsoft_academic':\n",
    "    nknown = 5000\n",
    "else:\n",
    "    nknown = 1500\n",
    "    \n",
    "idx_split_args = {'ntrain_per_class': 20, 'nstopping': 500, 'nknown': nknown}"
   ]
  },
  {
   "cell_type": "markdown",
   "metadata": {},
   "source": [
    "# Set up propagation\n",
    "\n",
    "Next we need to set up the proper pmropagation scheme. In the paper we've introduced the exact PPR propagation used in PPNP and the PPR power iteration propagation used in APPNP.\n",
    "\n",
    "We use the hyperparameters from the paper."
   ]
  },
  {
   "cell_type": "code",
   "execution_count": 68,
   "metadata": {},
   "outputs": [],
   "source": [
    "if graph_name == 'microsoft_academic':\n",
    "    alpha = 0.2\n",
    "else:\n",
    "    alpha = 0.1\n",
    "\n",
    "prop_ppnp = PPRExact(graph.adj_matrix, alpha=alpha)\n",
    "prop_appnp = PPRPowerIteration(graph.adj_matrix, alpha=alpha, niter=10)"
   ]
  },
  {
   "cell_type": "markdown",
   "metadata": {},
   "source": [
    "# Choose model hyperparameters\n",
    "\n",
    "Now we choose the hyperparameters. These are the ones used in the paper for all datasets.\n",
    "\n",
    "Note that we choose the propagation for APPNP."
   ]
  },
  {
   "cell_type": "code",
   "execution_count": 69,
   "metadata": {},
   "outputs": [],
   "source": [
    "model_args = {\n",
    "    'hiddenunits': [64],\n",
    "    'drop_prob': 0.5,\n",
    "    'propagation': prop_appnp}\n",
    "\n",
    "reg_lambda = 5e-3\n",
    "learning_rate = 0.01"
   ]
  },
  {
   "cell_type": "markdown",
   "metadata": {},
   "source": [
    "# Train model\n",
    "\n",
    "First we set the remaining settings for training."
   ]
  },
  {
   "cell_type": "code",
   "execution_count": 70,
   "metadata": {},
   "outputs": [],
   "source": [
    "niter_per_seed = 1\n",
    "save_result = False\n",
    "print_interval = 100\n",
    "device = 'cpu'"
   ]
  },
  {
   "cell_type": "markdown",
   "metadata": {},
   "source": [
    "We use 20 different seeds for splitting and 5 iterations (different random initializations) per split, so we train 100 times altogether. This will take a while."
   ]
  },
  {
   "cell_type": "code",
   "execution_count": 71,
   "metadata": {},
   "outputs": [
    {
     "name": "stderr",
     "output_type": "stream",
     "text": [
      "2023-04-19 15:02:41: Iteration 1 of 20\n",
      "                     -----------------\n",
      "2023-04-19 15:02:41: PyTorch seed: 3026156784\n",
      "2023-04-19 15:04:35: Last epoch: 768, best epoch: 496 (114.100 sec)\n",
      "2023-04-19 15:04:36: Test accuracy: 79.8%\n",
      "2023-04-19 15:04:36: Iteration 2 of 20\n",
      "                     -----------------\n",
      "2023-04-19 15:04:36: PyTorch seed: 1137220691\n",
      "2023-04-19 15:07:01: Last epoch: 988, best epoch: 762 (145.307 sec)\n",
      "2023-04-19 15:07:01: Test accuracy: 74.6%\n",
      "2023-04-19 15:07:01: Iteration 3 of 20\n",
      "                     -----------------\n",
      "2023-04-19 15:07:01: PyTorch seed: 3073648422\n",
      "2023-04-19 15:09:02: Last epoch: 814, best epoch: 393 (120.223 sec)\n",
      "2023-04-19 15:09:02: Test accuracy: 77.5%\n",
      "2023-04-19 15:09:02: Iteration 4 of 20\n",
      "                     -----------------\n",
      "2023-04-19 15:09:02: PyTorch seed: 3098751611\n",
      "2023-04-19 15:10:50: Last epoch: 721, best epoch: 621 (107.410 sec)\n",
      "2023-04-19 15:10:50: Test accuracy: 77.9%\n",
      "2023-04-19 15:10:50: Iteration 5 of 20\n",
      "                     -----------------\n",
      "2023-04-19 15:10:50: PyTorch seed: 3080264712\n",
      "2023-04-19 15:13:40: Last epoch: 1130, best epoch: 502 (169.569 sec)\n",
      "2023-04-19 15:13:40: Test accuracy: 79.5%\n",
      "2023-04-19 15:13:40: Iteration 6 of 20\n",
      "                     -----------------\n",
      "2023-04-19 15:13:40: PyTorch seed: 3576469949\n",
      "2023-04-19 15:15:30: Last epoch: 744, best epoch: 643 (109.630 sec)\n",
      "2023-04-19 15:15:30: Test accuracy: 78.6%\n",
      "2023-04-19 15:15:30: Iteration 7 of 20\n",
      "                     -----------------\n",
      "2023-04-19 15:15:30: PyTorch seed: 2250673872\n",
      "2023-04-19 15:26:11: Last epoch: 1330, best epoch: 590 (640.935 sec)\n",
      "2023-04-19 15:26:11: Test accuracy: 81.8%\n",
      "2023-04-19 15:26:11: Iteration 8 of 20\n",
      "                     -----------------\n",
      "2023-04-19 15:26:11: PyTorch seed: 3683302540\n",
      "2023-04-19 15:28:41: Last epoch: 1007, best epoch: 873 (149.987 sec)\n",
      "2023-04-19 15:28:42: Test accuracy: 78.4%\n",
      "2023-04-19 15:28:42: Iteration 9 of 20\n",
      "                     -----------------\n",
      "2023-04-19 15:28:42: PyTorch seed: 2070805004\n",
      "2023-04-19 15:31:58: Last epoch: 1335, best epoch: 999 (196.519 sec)\n",
      "2023-04-19 15:31:58: Test accuracy: 81.1%\n",
      "2023-04-19 15:31:59: Iteration 10 of 20\n",
      "                     ------------------\n",
      "2023-04-19 15:31:59: PyTorch seed: 527996104\n",
      "2023-04-19 15:34:32: Last epoch: 1040, best epoch: 831 (152.909 sec)\n",
      "2023-04-19 15:34:32: Test accuracy: 80.0%\n",
      "2023-04-19 15:34:32: Iteration 11 of 20\n",
      "                     ------------------\n",
      "2023-04-19 15:34:32: PyTorch seed: 493779337\n",
      "2023-04-19 15:36:51: Last epoch: 951, best epoch: 851 (139.201 sec)\n",
      "2023-04-19 15:36:51: Test accuracy: 80.0%\n",
      "2023-04-19 15:36:52: Iteration 12 of 20\n",
      "                     ------------------\n",
      "2023-04-19 15:36:52: PyTorch seed: 1632723725\n",
      "2023-04-19 15:39:32: Last epoch: 1091, best epoch: 984 (160.294 sec)\n",
      "2023-04-19 15:39:32: Test accuracy: 80.1%\n",
      "2023-04-19 15:39:32: Iteration 13 of 20\n",
      "                     ------------------\n",
      "2023-04-19 15:39:32: PyTorch seed: 1478039471\n",
      "2023-04-19 15:41:45: Last epoch: 903, best epoch: 709 (132.857 sec)\n",
      "2023-04-19 15:41:46: Test accuracy: 78.4%\n",
      "2023-04-19 15:41:46: Iteration 14 of 20\n",
      "                     ------------------\n",
      "2023-04-19 15:41:46: PyTorch seed: 2075534138\n",
      "2023-04-19 15:44:15: Last epoch: 1011, best epoch: 141 (149.067 sec)\n",
      "2023-04-19 15:44:15: Test accuracy: 78.1%\n",
      "2023-04-19 15:44:15: Iteration 15 of 20\n",
      "                     ------------------\n",
      "2023-04-19 15:44:15: PyTorch seed: 1024989883\n",
      "2023-04-19 15:45:43: Last epoch: 582, best epoch: 479 (87.571 sec)\n",
      "2023-04-19 15:45:43: Test accuracy: 76.7%\n",
      "2023-04-19 15:45:43: Iteration 16 of 20\n",
      "                     ------------------\n",
      "2023-04-19 15:45:43: PyTorch seed: 907744767\n",
      "2023-04-19 15:47:23: Last epoch: 673, best epoch: 346 (99.472 sec)\n",
      "2023-04-19 15:47:23: Test accuracy: 78.9%\n",
      "2023-04-19 15:47:23: Iteration 17 of 20\n",
      "                     ------------------\n",
      "2023-04-19 15:47:23: PyTorch seed: 2378661347\n",
      "2023-04-19 15:49:52: Last epoch: 1015, best epoch: 915 (148.775 sec)\n",
      "2023-04-19 15:49:52: Test accuracy: 78.1%\n",
      "2023-04-19 15:49:52: Iteration 18 of 20\n",
      "                     ------------------\n",
      "2023-04-19 15:49:52: PyTorch seed: 2518731555\n",
      "2023-04-19 15:52:12: Last epoch: 950, best epoch: 850 (140.022 sec)\n",
      "2023-04-19 15:52:12: Test accuracy: 79.9%\n",
      "2023-04-19 15:52:13: Iteration 19 of 20\n",
      "                     ------------------\n",
      "2023-04-19 15:52:13: PyTorch seed: 1789392708\n",
      "2023-04-19 15:54:29: Last epoch: 1002, best epoch: 533 (136.037 sec)\n",
      "2023-04-19 15:54:29: Test accuracy: 76.1%\n",
      "2023-04-19 15:54:29: Iteration 20 of 20\n",
      "                     ------------------\n",
      "2023-04-19 15:54:29: PyTorch seed: 3381897599\n",
      "2023-04-19 15:56:04: Last epoch: 657, best epoch: 557 (94.859 sec)\n",
      "2023-04-19 15:56:04: Test accuracy: 74.0%\n"
     ]
    }
   ],
   "source": [
    "results = []\n",
    "niter_tot = niter_per_seed * len(seeds)\n",
    "i_tot = 0\n",
    "for seed in seeds:\n",
    "    idx_split_args['seed'] = seed\n",
    "    for _ in range(niter_per_seed):\n",
    "        i_tot += 1\n",
    "        logging_string = f\"Iteration {i_tot} of {niter_tot}\"\n",
    "        logging.log(22,\n",
    "                logging_string + \"\\n                     \"\n",
    "                + '-' * len(logging_string))\n",
    "        _, result = train_model(\n",
    "            graph_name, PPNP, graph, model_args, learning_rate, reg_lambda,\n",
    "            idx_split_args, stopping_args, test, device, None, print_interval)\n",
    "        results.append({})\n",
    "        results[-1]['stopping_accuracy'] = result['early_stopping']['accuracy']\n",
    "        results[-1]['valtest_accuracy'] = result['valtest']['accuracy']\n",
    "        results[-1]['runtime'] = result['runtime']\n",
    "        results[-1]['runtime_perepoch'] = result['runtime_perepoch']\n",
    "        results[-1]['split_seed'] = seed"
   ]
  },
  {
   "cell_type": "markdown",
   "metadata": {},
   "source": [
    "# Evaluation\n",
    "\n",
    "To evaluate the data we use Pandas and Seaborn (for bootstrapping)."
   ]
  },
  {
   "cell_type": "code",
   "execution_count": 72,
   "metadata": {},
   "outputs": [],
   "source": [
    "import pandas as pd\n",
    "import seaborn as sns"
   ]
  },
  {
   "cell_type": "code",
   "execution_count": 73,
   "metadata": {},
   "outputs": [
    {
     "data": {
      "text/html": [
       "<div>\n",
       "<style scoped>\n",
       "    .dataframe tbody tr th:only-of-type {\n",
       "        vertical-align: middle;\n",
       "    }\n",
       "\n",
       "    .dataframe tbody tr th {\n",
       "        vertical-align: top;\n",
       "    }\n",
       "\n",
       "    .dataframe thead th {\n",
       "        text-align: right;\n",
       "    }\n",
       "</style>\n",
       "<table border=\"1\" class=\"dataframe\">\n",
       "  <thead>\n",
       "    <tr style=\"text-align: right;\">\n",
       "      <th></th>\n",
       "      <th>stopping_accuracy</th>\n",
       "      <th>valtest_accuracy</th>\n",
       "      <th>runtime</th>\n",
       "      <th>runtime_perepoch</th>\n",
       "      <th>split_seed</th>\n",
       "    </tr>\n",
       "  </thead>\n",
       "  <tbody>\n",
       "    <tr>\n",
       "      <th>0</th>\n",
       "      <td>0.806</td>\n",
       "      <td>0.798156</td>\n",
       "      <td>114.100091</td>\n",
       "      <td>0.148375</td>\n",
       "      <td>2144199730</td>\n",
       "    </tr>\n",
       "    <tr>\n",
       "      <th>1</th>\n",
       "      <td>0.770</td>\n",
       "      <td>0.745732</td>\n",
       "      <td>145.306779</td>\n",
       "      <td>0.146923</td>\n",
       "      <td>794209841</td>\n",
       "    </tr>\n",
       "    <tr>\n",
       "      <th>2</th>\n",
       "      <td>0.782</td>\n",
       "      <td>0.774606</td>\n",
       "      <td>120.223032</td>\n",
       "      <td>0.147513</td>\n",
       "      <td>2985733717</td>\n",
       "    </tr>\n",
       "    <tr>\n",
       "      <th>3</th>\n",
       "      <td>0.762</td>\n",
       "      <td>0.779053</td>\n",
       "      <td>107.410031</td>\n",
       "      <td>0.148767</td>\n",
       "      <td>2282690970</td>\n",
       "    </tr>\n",
       "    <tr>\n",
       "      <th>4</th>\n",
       "      <td>0.800</td>\n",
       "      <td>0.795356</td>\n",
       "      <td>169.568509</td>\n",
       "      <td>0.149928</td>\n",
       "      <td>1901557222</td>\n",
       "    </tr>\n",
       "  </tbody>\n",
       "</table>\n",
       "</div>"
      ],
      "text/plain": [
       "   stopping_accuracy  valtest_accuracy     runtime  runtime_perepoch  \\\n",
       "0              0.806          0.798156  114.100091          0.148375   \n",
       "1              0.770          0.745732  145.306779          0.146923   \n",
       "2              0.782          0.774606  120.223032          0.147513   \n",
       "3              0.762          0.779053  107.410031          0.148767   \n",
       "4              0.800          0.795356  169.568509          0.149928   \n",
       "\n",
       "   split_seed  \n",
       "0  2144199730  \n",
       "1   794209841  \n",
       "2  2985733717  \n",
       "3  2282690970  \n",
       "4  1901557222  "
      ]
     },
     "execution_count": 73,
     "metadata": {},
     "output_type": "execute_result"
    }
   ],
   "source": [
    "result_df = pd.DataFrame(results)\n",
    "result_df.head()"
   ]
  },
  {
   "cell_type": "markdown",
   "metadata": {},
   "source": [
    "The standard deviation doesn't really say much about the uncertainty of our results and the standard error of the mean (SEM) assumes a normal distribution. So the best way to get a valid estimate for our results' uncertainty is via bootstrapping."
   ]
  },
  {
   "cell_type": "code",
   "execution_count": 74,
   "metadata": {},
   "outputs": [],
   "source": [
    "def calc_uncertainty(values: np.ndarray, n_boot: int = 1000, ci: int = 95) -> dict:\n",
    "    stats = {}\n",
    "    stats['mean'] = values.mean()\n",
    "    boots_series = sns.algorithms.bootstrap(values, func=np.mean, n_boot=n_boot)\n",
    "    stats['CI'] = sns.utils.ci(boots_series, ci)\n",
    "    stats['uncertainty'] = np.max(np.abs(stats['CI'] - stats['mean']))\n",
    "    return stats"
   ]
  },
  {
   "cell_type": "code",
   "execution_count": 75,
   "metadata": {},
   "outputs": [],
   "source": [
    "stopping_acc = calc_uncertainty(result_df['stopping_accuracy'])\n",
    "valtest_acc = calc_uncertainty(result_df['valtest_accuracy'])\n",
    "runtime = calc_uncertainty(result_df['runtime'])\n",
    "runtime_perepoch = calc_uncertainty(result_df['runtime_perepoch'])"
   ]
  },
  {
   "cell_type": "code",
   "execution_count": 76,
   "metadata": {},
   "outputs": [
    {
     "name": "stdout",
     "output_type": "stream",
     "text": [
      "APPNP\n",
      "Early stopping: Accuracy: 78.64 ± 1.25%\n",
      "Test: Accuracy: 78.47 ± 0.90%\n",
      "Runtime: 159.737 ± 59.436 sec, per epoch: 163.58 ± 34.30ms\n"
     ]
    }
   ],
   "source": [
    "print(\"APPNP\\n\"\n",
    "      \"Early stopping: Accuracy: {:.2f} ± {:.2f}%\\n\"\n",
    "      \"{}: Accuracy: {:.2f} ± {:.2f}%\\n\"\n",
    "      \"Runtime: {:.3f} ± {:.3f} sec, per epoch: {:.2f} ± {:.2f}ms\"\n",
    "      .format(\n",
    "          stopping_acc['mean'] * 100,\n",
    "          stopping_acc['uncertainty'] * 100,\n",
    "          'Test' if test else 'Validation',\n",
    "          valtest_acc['mean'] * 100,\n",
    "          valtest_acc['uncertainty'] * 100,\n",
    "          runtime['mean'],\n",
    "          runtime['uncertainty'],\n",
    "          runtime_perepoch['mean'] * 1e3,\n",
    "          runtime_perepoch['uncertainty'] * 1e3,\n",
    "      ))"
   ]
  }
 ],
 "metadata": {
  "kernelspec": {
   "display_name": "Python 3.10.7 64-bit",
   "language": "python",
   "name": "python3"
  },
  "language_info": {
   "codemirror_mode": {
    "name": "ipython",
    "version": 3
   },
   "file_extension": ".py",
   "mimetype": "text/x-python",
   "name": "python",
   "nbconvert_exporter": "python",
   "pygments_lexer": "ipython3",
   "version": "3.10.7"
  },
  "vscode": {
   "interpreter": {
    "hash": "b0fa6594d8f4cbf19f97940f81e996739fb7646882a419484c72d19e05852a7e"
   }
  }
 },
 "nbformat": 4,
 "nbformat_minor": 4
}
